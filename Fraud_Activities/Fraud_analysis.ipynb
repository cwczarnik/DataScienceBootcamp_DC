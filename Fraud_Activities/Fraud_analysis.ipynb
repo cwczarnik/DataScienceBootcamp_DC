{
 "cells": [
  {
   "cell_type": "markdown",
   "metadata": {},
   "source": [
    "Company XYZ is an e-commerce site that sells hand-made clothes.\n",
    "You have to build a model that predicts whether a user has a high probability of using the site to perform some illegal activity or not. This is a super common task for data scientists.\n",
    "You only have information about the user first transaction on the site and based on that you have to make your classification (\"fraud/no fraud\").\n",
    "These are the tasks you are asked to do:\n",
    "\n",
    "- For each user, determine her country based on the numeric IP address.\n",
    "- Build a model to predict whether an activity is fraudulent or not. Explain how different assumptions about the cost of false positives vs false negatives would impact the model.\n",
    "- Your boss is a bit worried about using a model she doesn't understand for something as important as fraud detection. How would you explain her how the model is making the predictions? Not from a mathematical perspective (she couldn't care less about that), but from a user perspective. What kinds of users are more likely to be classified as at risk? What are their characteristics?\n",
    "- Let's say you now have this model which can be used live to predict in real time if an activity is fraudulent or not. From a product perspective, how would you use it? That is,what kind of different user experiences would you build based on the model output?"
   ]
  },
  {
   "cell_type": "code",
   "execution_count": 69,
   "metadata": {},
   "outputs": [
    {
     "name": "stdout",
     "output_type": "stream",
     "text": [
      "Fraud_Data.csv            IpAddress_to_Country.csv\r\n"
     ]
    }
   ],
   "source": [
    "ls Fraud/"
   ]
  },
  {
   "cell_type": "code",
   "execution_count": 70,
   "metadata": {
    "collapsed": true
   },
   "outputs": [],
   "source": [
    "import pandas as pd"
   ]
  },
  {
   "cell_type": "code",
   "execution_count": 71,
   "metadata": {},
   "outputs": [],
   "source": [
    "fraud = pd.read_csv('./Fraud/Fraud_Data.csv', iterator=True, chunksize=1000)"
   ]
  },
  {
   "cell_type": "code",
   "execution_count": 72,
   "metadata": {},
   "outputs": [],
   "source": [
    "ip_country = pd.read_csv('./Fraud/IpAddress_to_Country.csv')"
   ]
  },
  {
   "cell_type": "markdown",
   "metadata": {},
   "source": [
    "# The fraud csv is a little too big, I should do chunking to reduce the time it takes to perform analysis if I need it to run through a model."
   ]
  },
  {
   "cell_type": "code",
   "execution_count": 73,
   "metadata": {},
   "outputs": [],
   "source": [
    "def get_country_from_ip(ip_row):\n",
    "    return(ip_country[ (ip_row > ip_country['lower_bound_ip_address']) & (ip_row < ip_country['upper_bound_ip_address'])]['country'])"
   ]
  },
  {
   "cell_type": "code",
   "execution_count": 74,
   "metadata": {},
   "outputs": [
    {
     "ename": "KeyboardInterrupt",
     "evalue": "",
     "output_type": "error",
     "traceback": [
      "\u001b[0;31m---------------------------------------------------------------------------\u001b[0m",
      "\u001b[0;31mKeyboardInterrupt\u001b[0m                         Traceback (most recent call last)",
      "\u001b[0;31mKeyboardInterrupt\u001b[0m: "
     ]
    }
   ],
   "source": [
    "chunks = []\n",
    "for chunk in fraud:\n",
    "    chunks.append( chunk['ip_address'].apply(get_country_from_ip))\n",
    "full_ip_countries = pd.concat(chunks,ignore_index=True)"
   ]
  },
  {
   "cell_type": "code",
   "execution_count": null,
   "metadata": {
    "collapsed": true
   },
   "outputs": [],
   "source": [
    "f_chunk = pd.read_csv('Check1_900.csv', sep='\\t', iterator=True, chunksize=1000)\n",
    "print tp\n",
    "#<pandas.io.parsers.TextFileReader object at 0x00000000150E0048>\n",
    "df = pd.concat(tp, ignore_index=True)"
   ]
  }
 ],
 "metadata": {
  "kernelspec": {
   "display_name": "Python 2",
   "language": "python",
   "name": "python2"
  },
  "language_info": {
   "codemirror_mode": {
    "name": "ipython",
    "version": 2
   },
   "file_extension": ".py",
   "mimetype": "text/x-python",
   "name": "python",
   "nbconvert_exporter": "python",
   "pygments_lexer": "ipython2",
   "version": "2.7.13"
  }
 },
 "nbformat": 4,
 "nbformat_minor": 2
}
